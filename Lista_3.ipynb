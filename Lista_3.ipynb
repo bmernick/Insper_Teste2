{
  "cells": [
    {
      "cell_type": "markdown",
      "metadata": {
        "id": "Mvww4_am6En6"
      },
      "source": [
        "# Insper - Computação para Ciência dos Dados\n",
        "\n",
        "## Explorando dados na Internet\n",
        "\n",
        "O objetivo desta atividade é navegar nos sites e documentação sobre Python e LIBs, e também obter dados e reutilizar código pronto online. Atividade individual.\n",
        "\n",
        "1. Escolher no site do **Matplotlib** um gráfico interessante nos exemplos, não fique nos básicos. Copiar o código online e executar neste notebook.\n",
        "2. No site do **Kaggle** escolher um conjunto de dados interessante e baixar para seu ambiente local (pasta de trabalho)\n",
        "3. Importar os dados do Kaggle para o pandas (dataframe)\n",
        "4. Visualizar os dados com o gráfico que foi obtido no site de exemplos do Matplotlib\n",
        "5. Customizar o gráfico, cores, labels, etc...\n",
        "6. Use **markdown** para explicar o que está fazendo, passo a passo ao longo do notebook"
      ]
    },
    {
      "cell_type": "markdown",
      "metadata": {
        "id": "nd9wk33D6En8"
      },
      "source": [
        "Referências:\n",
        "    \n",
        "- Kaggle - https://www.kaggle.com/\n",
        "- Matplotlib - https://matplotlib.org/\n",
        "- Pandas - https://pandas.pydata.org/"
      ]
    },
    {
      "cell_type": "markdown",
      "metadata": {
        "id": "k0oOxuGh6En9"
      },
      "source": [
        "Um exemplo do Matplotlib:\n",
        "\n",
        "https://matplotlib.org/stable/gallery/lines_bars_and_markers/fill_between_demo.html#sphx-glr-gallery-lines-bars-and-markers-fill-between-demo-py"
      ]
    },
    {
      "cell_type": "code",
      "execution_count": null,
      "metadata": {
        "id": "Zqq30Z376En9"
      },
      "outputs": [],
      "source": [
        "import matplotlib.pyplot as plt\n",
        "import numpy as np"
      ]
    },
    {
      "cell_type": "code",
      "execution_count": null,
      "metadata": {
        "scrolled": true,
        "id": "fJHF7lXQ6En-",
        "outputId": "2fd1cfb1-dffd-4694-acbb-59b12cac16ea"
      },
      "outputs": [
        {
          "data": {
            "text/plain": [
              "[<matplotlib.lines.Line2D at 0x7f1cca4a2040>]"
            ]
          },
          "execution_count": 3,
          "metadata": {},
          "output_type": "execute_result"
        },
        {
          "data": {
            "image/png": "[encoded data removed]",
            "text/plain": [
              "<Figure size 432x288 with 1 Axes>"
            ]
          },
          "metadata": {
            "needs_background": "light"
          },
          "output_type": "display_data"
        }
      ],
      "source": [
        "N = 21\n",
        "x = np.linspace(0, 10, 11)\n",
        "y = [3.9, 4.4, 10.8, 10.3, 11.2, 13.1, 14.1,  9.9, 13.9, 15.1, 12.5]\n",
        "\n",
        "# fit a linear curve and estimate its y-values and their error.\n",
        "a, b = np.polyfit(x, y, deg=1)\n",
        "y_est = a * x + b\n",
        "y_err = x.std() * np.sqrt(1/len(x) +\n",
        "                          (x - x.mean())**2 / np.sum((x - x.mean())**2))\n",
        "\n",
        "fig, ax = plt.subplots()\n",
        "ax.plot(x, y_est, '-')\n",
        "ax.fill_between(x, y_est - y_err, y_est + y_err, alpha=0.2)\n",
        "ax.plot(x, y, 'o', color='tab:brown')\n"
      ]
    }
  ],
  "metadata": {
    "interpreter": {
      "hash": "0b59637b1394756eb7ed213fcf92fb888779c2e1ebc703c3375816d555c43ab4"
    },
    "kernelspec": {
      "display_name": "Python 3 (ipykernel)",
      "language": "python",
      "name": "python3"
    },
    "language_info": {
      "codemirror_mode": {
        "name": "ipython",
        "version": 3
      },
      "file_extension": ".py",
      "mimetype": "text/x-python",
      "name": "python",
      "nbconvert_exporter": "python",
      "pygments_lexer": "ipython3",
      "version": "3.9.12"
    },
    "colab": {
      "provenance": []
    }
  },
  "nbformat": 4,
  "nbformat_minor": 0
}